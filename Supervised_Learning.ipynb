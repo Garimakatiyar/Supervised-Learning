{
  "nbformat": 4,
  "nbformat_minor": 0,
  "metadata": {
    "colab": {
      "provenance": []
    },
    "kernelspec": {
      "name": "python3",
      "display_name": "Python 3"
    },
    "language_info": {
      "name": "python"
    }
  },
  "cells": [
    {
      "cell_type": "markdown",
      "source": [
        "#Supervised Learning"
      ],
      "metadata": {
        "id": "QecRlxf57Mq2"
      }
    },
    {
      "cell_type": "markdown",
      "source": [
        "Question 1 : What is Simple Linear Regression (SLR)? Explain its purpose.\n",
        "- Simple Linear Regression (SLR) is a statistical technique used to model the relationship between two variables — one independent (predictor) and one dependent (response). Its purpose is to find a linear equation that best fits the data, enabling prediction of the dependent variable based on the independent variable."
      ],
      "metadata": {
        "id": "C_Ih-YFJ7PaV"
      }
    },
    {
      "cell_type": "markdown",
      "source": [
        "Question 2: What are the key assumptions of Simple Linear Regression?\n",
        "- Linearity of relationship between independent and dependent variables.\n",
        "- Independence of errors (no autocorrelation).\n",
        "- Homoscedasticity (constant variance of errors).\n",
        "- Normal distribution of errors.\n",
        "- No or little multicollinearity (though in SLR, there’s only one predictor)."
      ],
      "metadata": {
        "id": "TFMp3Kv9_Mfk"
      }
    },
    {
      "cell_type": "markdown",
      "source": [
        "Question 3: Write the mathematical equation for a simple linear regression model and\n",
        "explain each term.\n",
        "- Y=β0+β1X+ϵ\n",
        "\n",
        "Where:\n",
        "\n",
        "𝑌\n",
        "Y: Dependent variable (output)\n",
        "\n",
        "𝑋\n",
        "X: Independent variable (input)\n",
        "\n",
        "𝛽\n",
        "0\n",
        "β\n",
        "0\n",
        "\t​\n",
        "\n",
        ": Intercept (value of Y when X = 0)\n",
        "\n",
        "𝛽\n",
        "1\n",
        "β\n",
        "1\n",
        "\t​\n",
        "\n",
        ": Slope (change in Y for one unit change in X)\n",
        "\n",
        "𝜖\n",
        "ϵ: Error term (difference between predicted and actual values)"
      ],
      "metadata": {
        "id": "KIsLVybZ_aVW"
      }
    },
    {
      "cell_type": "markdown",
      "source": [
        "Question 4: Provide a real-world example where simple linear regression can be\n",
        "applied.\n",
        "- Predicting house prices based on square footage. Here, square footage is the independent variable (X), and house price is the dependent variable (Y). A linear model can help estimate the price of a house given its size."
      ],
      "metadata": {
        "id": "g4RpaJKK_sKE"
      }
    },
    {
      "cell_type": "markdown",
      "source": [
        "Question 5: What is the method of least squares in linear regression?\n",
        "- The least squares method is a mathematical procedure used to find the best-fitting line by minimizing the sum of the squared differences between the observed values and the predicted values from the model. This minimizes error and gives the most accurate linear fit."
      ],
      "metadata": {
        "id": "Gqk641nT_7WD"
      }
    },
    {
      "cell_type": "markdown",
      "source": [
        "Question 6: What is Logistic Regression? How does it differ from Linear Regression?\n",
        "- Logistic Regression is a classification algorithm used to predict categorical outcomes (e.g., yes/no, 0/1).\n",
        "\n",
        "- Linear Regression is used for continuous outcomes (e.g., predicting price, temperature).\n",
        "\n",
        "- Logistic Regression uses a sigmoid function to output probabilities between 0 and 1, whereas Linear Regression fits a straight line."
      ],
      "metadata": {
        "id": "aI6vCd57ACtF"
      }
    },
    {
      "cell_type": "markdown",
      "source": [
        "Question 7: Name and briefly describe three common evaluation metrics for regression\n",
        "models.\n",
        "- Mean Absolute Error (MAE): Average of absolute differences between predicted and actual values.\n",
        "\n",
        "- Mean Squared Error (MSE): Average of squared differences between predicted and actual values.\n",
        "\n",
        "- R-squared (R²): Proportion of variance in the dependent variable explained by the model."
      ],
      "metadata": {
        "id": "8AqAyfZ4AM9Q"
      }
    },
    {
      "cell_type": "markdown",
      "source": [
        "Question 8: What is the purpose of the R-squared metric in regression analysis?\n",
        "- R-squared measures how well the regression model explains the variability of the dependent variable.\n",
        "\n",
        "- A value of R² close to 1 means the model fits the data well.\n",
        "\n",
        "- A low R² indicates poor explanatory power of the model."
      ],
      "metadata": {
        "id": "gnc0JRC9AdR0"
      }
    },
    {
      "cell_type": "markdown",
      "source": [
        "Q9: Write Python code to fit a simple linear regression model using scikit-learn and print the slope and intercept.\n",
        "- from sklearn.linear_model import LinearRegression\n",
        "import numpy as np\n",
        "\n",
        "# Sample dataset\n",
        "X = np.array([1, 2, 3, 4, 5]).reshape(-1, 1)\n",
        "y = np.array([2, 4, 5, 4, 5])\n",
        "\n",
        "# Create and fit the model\n",
        "model = LinearRegression()\n",
        "model.fit(X, y)\n",
        "\n",
        "# Print slope and intercept\n",
        "print(\"Slope:\", model.coef_[0])\n",
        "print(\"Intercept:\", model.intercept_)\n"
      ],
      "metadata": {
        "id": "hxfaVEAUAocn"
      }
    },
    {
      "cell_type": "code",
      "source": [
        "from sklearn.linear_model import LinearRegression\n",
        "import numpy as np\n",
        "\n",
        "# Sample dataset\n",
        "X = np.array([1, 2, 3, 4, 5]).reshape(-1, 1)\n",
        "y = np.array([2, 4, 5, 4, 5])\n",
        "\n",
        "# Create and fit the model\n",
        "model = LinearRegression()\n",
        "model.fit(X, y)\n",
        "\n",
        "# Print slope and intercept\n",
        "print(\"Slope:\", model.coef_[0])\n",
        "print(\"Intercept:\", model.intercept_)\n"
      ],
      "metadata": {
        "colab": {
          "base_uri": "https://localhost:8080/"
        },
        "id": "ub0HSfWfAsnQ",
        "outputId": "511756b1-1364-42cc-a8f7-01dda0f23dfb"
      },
      "execution_count": 1,
      "outputs": [
        {
          "output_type": "stream",
          "name": "stdout",
          "text": [
            "Slope: 0.6\n",
            "Intercept: 2.2\n"
          ]
        }
      ]
    },
    {
      "cell_type": "markdown",
      "source": [
        "Q10: How do you interpret the coefficients in a simple linear regression model?\n",
        "- The intercept (β₀) represents the predicted value of the dependent variable when the independent variable is zero.\n",
        "\n",
        "The slope (β₁) indicates how much the dependent variable is expected to change for each unit increase in the independent variable.\n",
        "For example, if the slope is 0.6, the dependent variable increases by 0.6 units for every 1 unit increase in X."
      ],
      "metadata": {
        "id": "Bc4d2sbNA0Tt"
      }
    }
  ]
}